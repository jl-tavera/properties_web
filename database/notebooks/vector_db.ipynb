{
 "cells": [
  {
   "cell_type": "code",
   "execution_count": 8,
   "id": "5fad44ac",
   "metadata": {},
   "outputs": [],
   "source": [
    "import os\n",
    "import ast\n",
    "import json\n",
    "import warnings\n",
    "import pandas as pd\n",
    "from qdrant_client import models, QdrantClient\n",
    "from sentence_transformers import SentenceTransformer\n",
    "\n",
    "warnings.filterwarnings('ignore')\n",
    "encoder = SentenceTransformer(\"paraphrase-multilingual-MiniLM-L12-v2\")\n",
    "\n"
   ]
  },
  {
   "cell_type": "markdown",
   "id": "485330af",
   "metadata": {},
   "source": [
    "### Load and Clean Data"
   ]
  },
  {
   "cell_type": "code",
   "execution_count": 9,
   "id": "4dd312a2",
   "metadata": {},
   "outputs": [],
   "source": [
    "df = pd.read_csv(\"../assets/data/clean/listings.csv\", encoding=\"latin-1\")"
   ]
  },
  {
   "cell_type": "code",
   "execution_count": 10,
   "id": "087e726b",
   "metadata": {},
   "outputs": [],
   "source": [
    "# Fix garbled text (mojibake) in all string columns\n",
    "for col in df.select_dtypes(include='object'):\n",
    "    df[col] = df[col].apply(lambda x: x.encode('latin1').decode('utf-8') if isinstance(x, str) else x)"
   ]
  },
  {
   "cell_type": "code",
   "execution_count": 11,
   "id": "ac03b0ec",
   "metadata": {},
   "outputs": [],
   "source": [
    "def try_fix_unicode(text):\n",
    "    if isinstance(text, str) and '\\\\u' in text:\n",
    "        try:\n",
    "            return text.encode('utf-8').decode('unicode_escape')\n",
    "        except Exception:\n",
    "            return text  # if decoding fails, return original\n",
    "    else:\n",
    "        return text\n",
    "\n",
    "for col in df.select_dtypes(include='object'):\n",
    "    df[col] = df[col].apply(try_fix_unicode)"
   ]
  },
  {
   "cell_type": "code",
   "execution_count": 12,
   "id": "df42c8dc",
   "metadata": {},
   "outputs": [],
   "source": [
    "df['unique_id'] = df.apply(lambda row: f\"{row.name}_{row['link'].split('/')[-1]}\", axis=1)"
   ]
  },
  {
   "cell_type": "code",
   "execution_count": 15,
   "id": "fef30095",
   "metadata": {},
   "outputs": [
    {
     "data": {
      "text/plain": [
       "0       ['Bogotá', 'Chapinero', 'Santa Fé', 'Cundinama...\n",
       "1                  ['Bogotá', 'Fontibón', 'Cundinamarca']\n",
       "2       ['Usaquén', 'Bogotá', 'Cundinamarca', 'Suba', ...\n",
       "3       ['Kennedy', 'Bogotá', 'Cundinamarca', 'Avenida...\n",
       "4       ['Bogotá', 'Chapinero', 'Cundinamarca', 'Barri...\n",
       "                              ...                        \n",
       "1183                                ['Usaquén', 'Bogotá']\n",
       "1184              ['Bogotá', 'Chapinero', 'Cundinamarca']\n",
       "1185    ['Bogotá', 'Chapinero', 'Santa Fé', 'Teusaquil...\n",
       "1186       ['Suba', 'Bogotá', 'Cundinamarca', 'Turingia']\n",
       "1187    ['Puente Aranda', 'Teusaquillo', 'Centro comer...\n",
       "Name: location, Length: 1188, dtype: object"
      ]
     },
     "execution_count": 15,
     "metadata": {},
     "output_type": "execute_result"
    }
   ],
   "source": [
    "df.location"
   ]
  },
  {
   "cell_type": "code",
   "execution_count": 19,
   "id": "76dafa57",
   "metadata": {},
   "outputs": [],
   "source": [
    "df = df.dropna()"
   ]
  },
  {
   "cell_type": "code",
   "execution_count": 20,
   "id": "6b4178a4",
   "metadata": {},
   "outputs": [],
   "source": [
    "\n",
    "df[\"location\"] = df[\"location\"].apply(ast.literal_eval)\n"
   ]
  },
  {
   "cell_type": "code",
   "execution_count": 21,
   "id": "e32a6e08",
   "metadata": {},
   "outputs": [
    {
     "data": {
      "text/plain": [
       "['Bogotá', 'Chapinero', 'Cundinamarca', 'Barrios Unidos']"
      ]
     },
     "execution_count": 21,
     "metadata": {},
     "output_type": "execute_result"
    }
   ],
   "source": [
    "df.location[4]"
   ]
  },
  {
   "cell_type": "code",
   "execution_count": 22,
   "id": "fcbf3b44",
   "metadata": {},
   "outputs": [],
   "source": [
    "unique_locations = set(loc for sublist in df[\"location\"].dropna() for loc in sublist)\n"
   ]
  },
  {
   "cell_type": "code",
   "execution_count": 24,
   "id": "a875bf42",
   "metadata": {},
   "outputs": [],
   "source": [
    "locations = list(unique_locations)  "
   ]
  },
  {
   "cell_type": "code",
   "execution_count": 26,
   "id": "81991e24",
   "metadata": {},
   "outputs": [
    {
     "data": {
      "text/plain": [
       "['1 De Mayo',\n",
       " '25',\n",
       " 'AV. Centenario - KR 87',\n",
       " 'Ac. 26',\n",
       " 'Ak 7',\n",
       " 'Ak 9',\n",
       " 'Ak.',\n",
       " 'Altagracia',\n",
       " 'Alto',\n",
       " 'Altos del Country',\n",
       " 'Amazonas',\n",
       " 'Antonio Nariño',\n",
       " 'Aranjuez',\n",
       " 'Autopista Sur',\n",
       " 'Av. Boyacá',\n",
       " 'Ave Cra 30',\n",
       " 'Avenida Carrera 22',\n",
       " 'Avenida de las Américas',\n",
       " 'BOGOTÁ',\n",
       " 'Bajando por LA CARMELITA Colinas de Suba',\n",
       " 'Barrio Ricaurte',\n",
       " 'Barrios Unidos',\n",
       " 'Bella Flor',\n",
       " 'Bella Suiza',\n",
       " 'Bilbao',\n",
       " 'Bogot\\x1a',\n",
       " 'Bogota',\n",
       " 'Bogota D.C.',\n",
       " 'Bogotá',\n",
       " 'Bogotá D.C',\n",
       " 'Bogotá D.C.',\n",
       " 'Bogotá, Colombia',\n",
       " 'Bogotá, Cundinamarca',\n",
       " 'Bogotá, DC',\n",
       " 'Bolívar',\n",
       " 'Boogotá',\n",
       " 'Bosa',\n",
       " 'Boyacá',\n",
       " 'Buenos Aires',\n",
       " 'CC Unicentro de Occidente',\n",
       " 'CEDRITOS',\n",
       " 'Calle 181',\n",
       " 'Calvo sur',\n",
       " 'Candelaria',\n",
       " 'Carrera 58',\n",
       " 'Castilla',\n",
       " 'Cdad. Bolívar',\n",
       " 'Cdad. Bolívar, Bogotá, Colombia',\n",
       " 'Cdad. Bolívar, Bogotá, Cundinamarca, Colombia',\n",
       " 'Cedritos',\n",
       " 'Central',\n",
       " 'Centro',\n",
       " 'Centro Comercial',\n",
       " 'Centro Comercial Bacatá',\n",
       " 'Centro Comercial Palatino',\n",
       " 'Centro Comercial Santafé',\n",
       " 'Centro Empresarial Salitre',\n",
       " 'Centro Histórico',\n",
       " 'Centro comercial gran estacion esfera',\n",
       " 'Centro comercial la colina',\n",
       " 'Centro comercial la colina 138',\n",
       " 'Chapinero',\n",
       " 'Chapinero, Alto',\n",
       " 'Chile',\n",
       " 'Ciudad Jardín',\n",
       " 'Ciudad Kennedy',\n",
       " 'Ciudad Montes',\n",
       " 'Ciudad Salitre',\n",
       " 'Cl. 146a',\n",
       " 'Cl. 152a',\n",
       " 'Cl. 153',\n",
       " 'Cl. 167c',\n",
       " 'Cl. 175',\n",
       " 'Cl. 181b',\n",
       " 'Cl. 181c',\n",
       " 'Cl. 182',\n",
       " 'Cl. 183',\n",
       " 'Cl. 184',\n",
       " 'Cl. 185',\n",
       " 'Cl. 186',\n",
       " 'Cl. 188',\n",
       " 'Cl. 56d Sur',\n",
       " 'Cl. 57r Bis Sur',\n",
       " 'Cl. 59 Sur',\n",
       " 'Cl. 5c',\n",
       " 'Cl. 60 Sur',\n",
       " 'Cl. 60a Sur',\n",
       " 'Cl. 62d Sur',\n",
       " 'Cl. 6a',\n",
       " 'Cl. 70n sur',\n",
       " 'Cl. 70p Sur',\n",
       " 'Cl. 7c Bis',\n",
       " 'Cl. 8',\n",
       " 'Cl. 8A',\n",
       " 'Cl. 8b Bis',\n",
       " 'Colombia',\n",
       " 'Cosa Rica',\n",
       " 'Costa Azul',\n",
       " 'Costado Occidental',\n",
       " 'Country Sur',\n",
       " 'Cra. 10',\n",
       " 'Cra. 11',\n",
       " 'Cra. 11a',\n",
       " 'Cra. 12',\n",
       " 'Cra. 17',\n",
       " 'Cra. 17b',\n",
       " 'Cra. 18a Bis',\n",
       " 'Cra. 1a Este',\n",
       " 'Cra. 23',\n",
       " 'Cra. 4',\n",
       " 'Cra. 58d',\n",
       " 'Cra. 59',\n",
       " 'Cra. 73b Bis',\n",
       " 'Cra. 74',\n",
       " 'Cra. 75',\n",
       " 'Cra. 75f',\n",
       " 'Cra. 78',\n",
       " 'Cra. 80',\n",
       " 'Cra. 8c',\n",
       " 'Cundinamarca',\n",
       " 'DC',\n",
       " 'Demivalle',\n",
       " 'Dg. 5a',\n",
       " 'Distrito',\n",
       " 'El Bosque',\n",
       " 'Engativá',\n",
       " 'Esmeralda',\n",
       " 'Florida Blanca',\n",
       " 'Fontibón',\n",
       " 'Granada Hills',\n",
       " 'Kennedy',\n",
       " 'La Calera',\n",
       " 'La Calleja',\n",
       " 'La Candelaria',\n",
       " 'La Caro',\n",
       " 'La Esmeralda',\n",
       " 'La Esperanza',\n",
       " 'La Pepita',\n",
       " 'La Soledad',\n",
       " 'Las Villas del Mediterráneo',\n",
       " 'Los Mártires',\n",
       " 'Los Ángeles',\n",
       " 'Macarena',\n",
       " 'Madelena',\n",
       " 'Magangué',\n",
       " 'Marsella',\n",
       " 'Modelia',\n",
       " 'Modelia Occidental',\n",
       " 'Modelo',\n",
       " 'Mosquera',\n",
       " 'Nariño Sur',\n",
       " 'Nieves',\n",
       " 'Normandia',\n",
       " 'Oficinas',\n",
       " 'Olarte',\n",
       " 'Palatino',\n",
       " 'Palermo Sur',\n",
       " 'Parque La Colina',\n",
       " 'Piamonte',\n",
       " 'Polo Country Club',\n",
       " 'Prado',\n",
       " 'Prado Veraniego',\n",
       " 'Puente Aranda',\n",
       " 'Puente Peatonal Estación Marsella',\n",
       " 'Quintas de Sta. Barbara',\n",
       " 'Quirigua',\n",
       " 'Rafael Uribe Uribe',\n",
       " 'Restrepo',\n",
       " 'Ricaurte',\n",
       " 'Rincon',\n",
       " 'Salitre',\n",
       " 'Salitre Plaza',\n",
       " 'San Cristóbal',\n",
       " 'San Luis',\n",
       " 'San Rafael',\n",
       " 'San cristobal',\n",
       " 'Santa Ana',\n",
       " 'Santa Barbara',\n",
       " 'Santa Bárbara',\n",
       " 'Santa Catalina',\n",
       " 'Santa Fé',\n",
       " 'Santa Helenita',\n",
       " 'Santa Paula',\n",
       " 'Santa Rita Sur OrientalOla',\n",
       " 'Santa Rosa norte',\n",
       " 'Santa Rosita',\n",
       " 'Santa Teresa',\n",
       " 'Santa Águeda',\n",
       " 'Sauzalito',\n",
       " 'Soacha',\n",
       " 'Sosiego',\n",
       " 'Suba',\n",
       " 'Subestación Torca',\n",
       " 'Teusaquillo',\n",
       " 'Toberin',\n",
       " 'Tunjuelito',\n",
       " 'Turingia',\n",
       " 'Tv. 13d',\n",
       " 'USAQUÉN',\n",
       " 'Urbanizacion Gorgonzola',\n",
       " 'Usaquén',\n",
       " 'Usme',\n",
       " 'Valladolid',\n",
       " 'Villa Alsacia',\n",
       " 'Villa Magdala',\n",
       " 'Villa Teresita',\n",
       " 'Villa del Río',\n",
       " 'ZONA 1',\n",
       " 'ZONA 2',\n",
       " 'ZONA 5',\n",
       " 'Zona 1',\n",
       " 'Zona 3',\n",
       " 'Zona 4',\n",
       " 'Zona 5',\n",
       " 'Zona 6',\n",
       " 'Zona G',\n",
       " 'alto',\n",
       " 'candelaria',\n",
       " 'centro comunitario',\n",
       " 'ciudad montes',\n",
       " 'este',\n",
       " 'la felicidad',\n",
       " 'los comuneros',\n",
       " 'palermo',\n",
       " 'siete de agosto',\n",
       " 'tunja']"
      ]
     },
     "execution_count": 26,
     "metadata": {},
     "output_type": "execute_result"
    }
   ],
   "source": [
    "sorted(locations)"
   ]
  },
  {
   "cell_type": "code",
   "execution_count": 6,
   "id": "7137d8f7",
   "metadata": {},
   "outputs": [
    {
     "data": {
      "text/plain": [
       "link                    0\n",
       "price                   0\n",
       "bedrooms                0\n",
       "bathrooms               0\n",
       "area                    0\n",
       "agency                  0\n",
       "coordinates             0\n",
       "facilities              0\n",
       "upload_date             0\n",
       "stratum                 0\n",
       "parking_lots            0\n",
       "floor                   0\n",
       "construction_age_min    0\n",
       "construction_age_max    0\n",
       "description             0\n",
       "places                  0\n",
       "location                0\n",
       "transportation          0\n",
       "dtype: int64"
      ]
     },
     "execution_count": 6,
     "metadata": {},
     "output_type": "execute_result"
    }
   ],
   "source": [
    "df.isna().sum()"
   ]
  },
  {
   "cell_type": "code",
   "execution_count": 7,
   "id": "b15250de",
   "metadata": {},
   "outputs": [
    {
     "data": {
      "text/plain": [
       "link                            object\n",
       "price                            int64\n",
       "bedrooms                         int64\n",
       "bathrooms                        int64\n",
       "area                             int64\n",
       "agency                          object\n",
       "coordinates                     object\n",
       "facilities                      object\n",
       "upload_date             datetime64[ns]\n",
       "stratum                          int64\n",
       "parking_lots                     int64\n",
       "floor                            int64\n",
       "construction_age_min             int64\n",
       "construction_age_max             int64\n",
       "description                     object\n",
       "places                          object\n",
       "location                        object\n",
       "transportation                  object\n",
       "dtype: object"
      ]
     },
     "execution_count": 7,
     "metadata": {},
     "output_type": "execute_result"
    }
   ],
   "source": [
    "df.dtypes"
   ]
  },
  {
   "cell_type": "markdown",
   "id": "feb495cd",
   "metadata": {},
   "source": [
    "### Create Collection"
   ]
  },
  {
   "cell_type": "code",
   "execution_count": 8,
   "id": "add05ab0",
   "metadata": {},
   "outputs": [
    {
     "data": {
      "text/plain": [
       "True"
      ]
     },
     "execution_count": 8,
     "metadata": {},
     "output_type": "execute_result"
    }
   ],
   "source": [
    "client.create_collection(\n",
    "    collection_name=\"apartments\",\n",
    "    vectors_config=models.VectorParams(\n",
    "        size=encoder.get_sentence_embedding_dimension(),\n",
    "        distance=models.Distance.COSINE,\n",
    "    ),\n",
    ")"
   ]
  },
  {
   "cell_type": "code",
   "execution_count": 9,
   "id": "0979a2eb",
   "metadata": {},
   "outputs": [],
   "source": [
    "# Document class to structure data\n",
    "class Document:\n",
    "    def __init__(self, page_content, metadata):\n",
    "        self.page_content = page_content\n",
    "        self.metadata = metadata\n",
    "\n",
    "# Convert DataFrame rows into Document objects\n",
    "def df_to_documents(df):\n",
    "    documents = []\n",
    "    for _, row in df.iterrows():\n",
    "        metadata = {\n",
    "            \"link\": row[\"link\"],\n",
    "            \"price\": row[\"price\"],\n",
    "            \"bedrooms\": row[\"bedrooms\"],\n",
    "            \"bathrooms\": row[\"bathrooms\"],\n",
    "            \"area\": row[\"area\"],\n",
    "            \"agency\": row[\"agency\"],\n",
    "            \"coordinates\": row[\"coordinates\"],\n",
    "            \"facilities\": row[\"facilities\"],\n",
    "            \"upload_date\": row[\"upload_date\"],\n",
    "            \"stratum\": row[\"stratum\"],\n",
    "            \"parking_lots\": row[\"parking_lots\"],\n",
    "            \"floor\": row[\"floor\"],\n",
    "            \"construction_age_min\": row[\"construction_age_min\"],\n",
    "            \"construction_age_max\": row[\"construction_age_max\"],\n",
    "            \"places\": row[\"places\"],\n",
    "            \"location\": row[\"location\"],\n",
    "            \"transportation\": row[\"transportation\"],\n",
    "        }\n",
    "        document = Document(page_content=row[\"description\"], metadata=metadata)\n",
    "        documents.append(document)\n",
    "    return documents\n",
    "\n",
    "docs = df_to_documents(df)"
   ]
  },
  {
   "cell_type": "code",
   "execution_count": 10,
   "id": "9fd0f620",
   "metadata": {},
   "outputs": [],
   "source": [
    "points = [\n",
    "    models.PointStruct(\n",
    "        id=idx, \n",
    "        vector=encoder.encode(doc.page_content).tolist(), \n",
    "        payload={'metadata': doc.metadata, 'page_content': doc.page_content}\n",
    "    )\n",
    "    for idx, doc in enumerate(docs)\n",
    "]"
   ]
  },
  {
   "cell_type": "code",
   "execution_count": 11,
   "id": "cd4a0dab",
   "metadata": {},
   "outputs": [],
   "source": [
    "client.upload_points(\n",
    "    collection_name=\"apartments\",\n",
    "    points=points,\n",
    ")"
   ]
  },
  {
   "cell_type": "code",
   "execution_count": 12,
   "id": "98444f9e",
   "metadata": {},
   "outputs": [],
   "source": [
    "# query filter\n",
    "hits = client.search(\n",
    "    collection_name=\"apartments\",\n",
    "    query_vector=encoder.encode(\"Apartamento moderno y minimalista con vista exterior\").tolist(),\n",
    "    query_filter=models.Filter(\n",
    "        must=[\n",
    "            models.FieldCondition(key=\"metadata.agency\", match=models.MatchValue(value=\"Houm\")),\n",
    "            models.FieldCondition(key=\"metadata.price\", range=models.Range(gte=2500000, lte=3500000)), \n",
    "            models.FieldCondition(key=\"metadata.bedrooms\", range=models.Range(gte=2, lte=3))\n",
    "        ]\n",
    "    ),\n",
    "    limit=10,\n",
    ")\n",
    "\n",
    "for hit in hits:\n",
    "    print(hit.payload['metadata']['link'], \"\\nprice:\", hit.payload['metadata']['price'], \"\\agency:\", hit.payload['metadata']['agency'], \"\\abedrooms:\", hit.payload['metadata']['bedrooms'],\"\\n\\n\")"
   ]
  }
 ],
 "metadata": {
  "kernelspec": {
   "display_name": "venv",
   "language": "python",
   "name": "python3"
  },
  "language_info": {
   "codemirror_mode": {
    "name": "ipython",
    "version": 3
   },
   "file_extension": ".py",
   "mimetype": "text/x-python",
   "name": "python",
   "nbconvert_exporter": "python",
   "pygments_lexer": "ipython3",
   "version": "3.9.19"
  }
 },
 "nbformat": 4,
 "nbformat_minor": 5
}
