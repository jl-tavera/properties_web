{
 "cells": [
  {
   "cell_type": "code",
   "execution_count": 50,
   "id": "5fad44ac",
   "metadata": {},
   "outputs": [],
   "source": [
    "import os\n",
    "import ast\n",
    "import json\n",
    "import warnings\n",
    "import pandas as pd\n",
    "from qdrant_client import models, QdrantClient\n",
    "from sentence_transformers import SentenceTransformer\n",
    "\n",
    "warnings.filterwarnings('ignore')\n",
    "encoder = SentenceTransformer(\"paraphrase-multilingual-MiniLM-L12-v2\")\n",
    "\n",
    "client = QdrantClient(\n",
    "        url=\"http://localhost:6333\"\n",
    ")"
   ]
  },
  {
   "cell_type": "markdown",
   "id": "485330af",
   "metadata": {},
   "source": [
    "### Load and Clean Data"
   ]
  },
  {
   "cell_type": "code",
   "execution_count": 51,
   "id": "4dd312a2",
   "metadata": {},
   "outputs": [],
   "source": [
    "df = pd.read_csv(\"../assets/data/listings_clean.csv\", encoding=\"latin-1\")"
   ]
  },
  {
   "cell_type": "code",
   "execution_count": 52,
   "id": "087e726b",
   "metadata": {},
   "outputs": [],
   "source": [
    "# Fix garbled text (mojibake) in all string columns\n",
    "for col in df.select_dtypes(include='object'):\n",
    "    df[col] = df[col].apply(lambda x: x.encode('latin1').decode('utf-8') if isinstance(x, str) else x)"
   ]
  },
  {
   "cell_type": "code",
   "execution_count": 53,
   "id": "ac03b0ec",
   "metadata": {},
   "outputs": [],
   "source": [
    "def try_fix_unicode(text):\n",
    "    if isinstance(text, str) and '\\\\u' in text:\n",
    "        try:\n",
    "            return text.encode('utf-8').decode('unicode_escape')\n",
    "        except Exception:\n",
    "            return text  # if decoding fails, return original\n",
    "    else:\n",
    "        return text\n",
    "\n",
    "for col in df.select_dtypes(include='object'):\n",
    "    df[col] = df[col].apply(try_fix_unicode)"
   ]
  },
  {
   "cell_type": "code",
   "execution_count": null,
   "id": "6b4178a4",
   "metadata": {},
   "outputs": [],
   "source": [
    "df[\"facilities\"] = df[\"facilities\"].apply(ast.literal_eval)\n",
    "df[\"places\"] = df[\"places\"].apply(ast.literal_eval)\n",
    "df[\"location\"] = df[\"location\"].apply(ast.literal_eval)\n",
    "df[\"transportation\"] = df[\"transportation\"].apply(ast.literal_eval)\n",
    "df[\"upload_date\"] = pd.to_datetime(df[\"upload_date\"], errors='coerce')"
   ]
  },
  {
   "cell_type": "code",
   "execution_count": 55,
   "id": "7137d8f7",
   "metadata": {},
   "outputs": [
    {
     "data": {
      "text/plain": [
       "link                    0\n",
       "price                   0\n",
       "bedrooms                0\n",
       "bathrooms               0\n",
       "area                    0\n",
       "agency                  0\n",
       "coordinates             0\n",
       "facilities              0\n",
       "upload_date             0\n",
       "stratum                 0\n",
       "parking_lots            0\n",
       "floor                   0\n",
       "construction_age_min    0\n",
       "construction_age_max    0\n",
       "places                  0\n",
       "location                0\n",
       "transportation          0\n",
       "description             0\n",
       "dtype: int64"
      ]
     },
     "execution_count": 55,
     "metadata": {},
     "output_type": "execute_result"
    }
   ],
   "source": [
    "df.isna().sum()"
   ]
  },
  {
   "cell_type": "code",
   "execution_count": 56,
   "id": "b15250de",
   "metadata": {},
   "outputs": [
    {
     "data": {
      "text/plain": [
       "link                    object\n",
       "price                    int64\n",
       "bedrooms                 int64\n",
       "bathrooms                int64\n",
       "area                     int64\n",
       "agency                  object\n",
       "coordinates             object\n",
       "facilities              object\n",
       "upload_date             object\n",
       "stratum                  int64\n",
       "parking_lots             int64\n",
       "floor                    int64\n",
       "construction_age_min     int64\n",
       "construction_age_max     int64\n",
       "places                  object\n",
       "location                object\n",
       "transportation          object\n",
       "description             object\n",
       "dtype: object"
      ]
     },
     "execution_count": 56,
     "metadata": {},
     "output_type": "execute_result"
    }
   ],
   "source": [
    "df.dtypes"
   ]
  },
  {
   "cell_type": "markdown",
   "id": "feb495cd",
   "metadata": {},
   "source": [
    "### Create Collection"
   ]
  },
  {
   "cell_type": "code",
   "execution_count": 57,
   "id": "add05ab0",
   "metadata": {},
   "outputs": [
    {
     "data": {
      "text/plain": [
       "True"
      ]
     },
     "execution_count": 57,
     "metadata": {},
     "output_type": "execute_result"
    }
   ],
   "source": [
    "client.create_collection(\n",
    "    collection_name=\"apartments_test\",\n",
    "    vectors_config=models.VectorParams(\n",
    "        size=encoder.get_sentence_embedding_dimension(),\n",
    "        distance=models.Distance.COSINE,\n",
    "    ),\n",
    ")"
   ]
  },
  {
   "cell_type": "code",
   "execution_count": 58,
   "id": "0979a2eb",
   "metadata": {},
   "outputs": [],
   "source": [
    "# Document class to structure data\n",
    "class Document:\n",
    "    def __init__(self, page_content, metadata):\n",
    "        self.page_content = page_content\n",
    "        self.metadata = metadata\n",
    "\n",
    "# Convert DataFrame rows into Document objects\n",
    "def df_to_documents(df):\n",
    "    documents = []\n",
    "    for _, row in df.iterrows():\n",
    "        metadata = {\n",
    "            \"link\": row[\"link\"],\n",
    "            \"price\": row[\"price\"],\n",
    "            \"bedrooms\": row[\"bedrooms\"],\n",
    "            \"bathrooms\": row[\"bathrooms\"],\n",
    "            \"area\": row[\"area\"],\n",
    "            \"agency\": row[\"agency\"],\n",
    "            \"coordinates\": row[\"coordinates\"],\n",
    "            \"facilities\": row[\"facilities\"],\n",
    "            \"upload_date\": row[\"upload_date\"],\n",
    "            \"stratum\": row[\"stratum\"],\n",
    "            \"parking_lots\": row[\"parking_lots\"],\n",
    "            \"floor\": row[\"floor\"],\n",
    "            \"construction_age_min\": row[\"construction_age_min\"],\n",
    "            \"construction_age_max\": row[\"construction_age_max\"],\n",
    "            \"places\": row[\"places\"],\n",
    "            \"location\": row[\"location\"],\n",
    "            \"transportation\": row[\"transportation\"],\n",
    "        }\n",
    "        document = Document(page_content=row[\"description\"], metadata=metadata)\n",
    "        documents.append(document)\n",
    "    return documents\n",
    "\n",
    "docs = df_to_documents(df)"
   ]
  },
  {
   "cell_type": "code",
   "execution_count": 59,
   "id": "9fd0f620",
   "metadata": {},
   "outputs": [],
   "source": [
    "points = [\n",
    "    models.PointStruct(\n",
    "        id=idx, \n",
    "        vector=encoder.encode(doc.page_content).tolist(), \n",
    "        payload={'metadata': doc.metadata, 'page_content': doc.page_content}\n",
    "    )\n",
    "    for idx, doc in enumerate(docs)\n",
    "]"
   ]
  },
  {
   "cell_type": "code",
   "execution_count": 60,
   "id": "cd4a0dab",
   "metadata": {},
   "outputs": [],
   "source": [
    "client.upload_points(\n",
    "    collection_name=\"apartments_test\",\n",
    "    points=points,\n",
    ")"
   ]
  },
  {
   "cell_type": "code",
   "execution_count": 61,
   "id": "98444f9e",
   "metadata": {},
   "outputs": [
    {
     "name": "stdout",
     "output_type": "stream",
     "text": [
      "https://www.fincaraiz.com.co/apartamento-en-arriendo/192403260 \n",
      "price: 2700000 \u0007gency: Houm \u0007bedrooms: 3 \n",
      "\n",
      "\n",
      "https://www.fincaraiz.com.co/apartamento-en-arriendo/192403262 \n",
      "price: 3000000 \u0007gency: Houm \u0007bedrooms: 3 \n",
      "\n",
      "\n",
      "https://www.fincaraiz.com.co/apartamento-en-arriendo/192403048 \n",
      "price: 2500000 \u0007gency: Houm \u0007bedrooms: 3 \n",
      "\n",
      "\n"
     ]
    }
   ],
   "source": [
    "# query filter\n",
    "hits = client.search(\n",
    "    collection_name=\"apartments_test\",\n",
    "    query_vector=encoder.encode(\"Apartamento moderno y minimalista con vista exterior\").tolist(),\n",
    "    query_filter=models.Filter(\n",
    "        must=[\n",
    "            models.FieldCondition(key=\"metadata.agency\", match=models.MatchValue(value=\"Houm\")),\n",
    "            models.FieldCondition(key=\"metadata.price\", range=models.Range(gte=2500000, lte=3500000)), \n",
    "            models.FieldCondition(key=\"metadata.bedrooms\", range=models.Range(gte=2, lte=3))\n",
    "        ]\n",
    "    ),\n",
    "    limit=10,\n",
    ")\n",
    "\n",
    "for hit in hits:\n",
    "    print(hit.payload['metadata']['link'], \"\\nprice:\", hit.payload['metadata']['price'], \"\\agency:\", hit.payload['metadata']['agency'], \"\\abedrooms:\", hit.payload['metadata']['bedrooms'],\"\\n\\n\")"
   ]
  }
 ],
 "metadata": {
  "kernelspec": {
   "display_name": "venv",
   "language": "python",
   "name": "python3"
  },
  "language_info": {
   "codemirror_mode": {
    "name": "ipython",
    "version": 3
   },
   "file_extension": ".py",
   "mimetype": "text/x-python",
   "name": "python",
   "nbconvert_exporter": "python",
   "pygments_lexer": "ipython3",
   "version": "3.9.19"
  }
 },
 "nbformat": 4,
 "nbformat_minor": 5
}
